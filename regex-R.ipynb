{
 "cells": [
  {
   "cell_type": "code",
   "execution_count": 1,
   "id": "1362d529",
   "metadata": {
    "scrolled": false
   },
   "outputs": [
    {
     "name": "stderr",
     "output_type": "stream",
     "text": [
      "Registered S3 methods overwritten by 'ggplot2':\n",
      "  method         from \n",
      "  [.quosures     rlang\n",
      "  c.quosures     rlang\n",
      "  print.quosures rlang\n",
      "Registered S3 method overwritten by 'rvest':\n",
      "  method            from\n",
      "  read_xml.response xml2\n",
      "-- Attaching packages --------------------------------------- tidyverse 1.2.1 --\n",
      "v ggplot2 3.1.1       v purrr   0.3.2  \n",
      "v tibble  2.1.1       v dplyr   0.8.0.1\n",
      "v tidyr   0.8.3       v stringr 1.4.0  \n",
      "v readr   1.3.1       v forcats 0.4.0  \n",
      "-- Conflicts ------------------------------------------ tidyverse_conflicts() --\n",
      "x dplyr::filter() masks stats::filter()\n",
      "x dplyr::lag()    masks stats::lag()\n"
     ]
    }
   ],
   "source": [
    "# Load packages \n",
    "library(tidyverse)"
   ]
  },
  {
   "cell_type": "markdown",
   "id": "93e34701",
   "metadata": {},
   "source": [
    "# Phone number"
   ]
  },
  {
   "cell_type": "code",
   "execution_count": 2,
   "id": "f73e45de",
   "metadata": {},
   "outputs": [
    {
     "data": {
      "text/html": [
       "<table>\n",
       "<thead><tr><th scope=col>original_number</th></tr></thead>\n",
       "<tbody>\n",
       "\t<tr><td>(541) 471 3918</td></tr>\n",
       "\t<tr><td>(603)281-0308 </td></tr>\n",
       "\t<tr><td>(814)-462-8074</td></tr>\n",
       "\t<tr><td>9704443106    </td></tr>\n",
       "</tbody>\n",
       "</table>\n"
      ],
      "text/latex": [
       "\\begin{tabular}{r|l}\n",
       " original\\_number\\\\\n",
       "\\hline\n",
       "\t (541) 471 3918\\\\\n",
       "\t (603)281-0308 \\\\\n",
       "\t (814)-462-8074\\\\\n",
       "\t 9704443106    \\\\\n",
       "\\end{tabular}\n"
      ],
      "text/markdown": [
       "\n",
       "| original_number |\n",
       "|---|\n",
       "| (541) 471 3918 |\n",
       "| (603)281-0308  |\n",
       "| (814)-462-8074 |\n",
       "| 9704443106     |\n",
       "\n"
      ],
      "text/plain": [
       "  original_number\n",
       "1 (541) 471 3918 \n",
       "2 (603)281-0308  \n",
       "3 (814)-462-8074 \n",
       "4 9704443106     "
      ]
     },
     "metadata": {},
     "output_type": "display_data"
    }
   ],
   "source": [
    "original_number = c(\"(541) 471 3918\",\n",
    "              \"(603)281-0308\",\n",
    "               \"(814)-462-8074\",\n",
    "               \"9704443106\")\n",
    "phone = as.data.frame(original_number)\n",
    "phone"
   ]
  },
  {
   "cell_type": "code",
   "execution_count": 3,
   "id": "85d7be5c",
   "metadata": {},
   "outputs": [
    {
     "data": {
      "text/html": [
       "<table>\n",
       "<thead><tr><th scope=col>original_number</th><th scope=col>area_code</th><th scope=col>exchange</th><th scope=col>line_number</th></tr></thead>\n",
       "<tbody>\n",
       "\t<tr><td>(541) 471 3918</td><td>541           </td><td>471           </td><td>3918          </td></tr>\n",
       "\t<tr><td>(603)281-0308 </td><td>603           </td><td>281           </td><td>0308          </td></tr>\n",
       "\t<tr><td>(814)-462-8074</td><td>814           </td><td>462           </td><td>8074          </td></tr>\n",
       "\t<tr><td>9704443106    </td><td>970           </td><td>444           </td><td>3106          </td></tr>\n",
       "</tbody>\n",
       "</table>\n"
      ],
      "text/latex": [
       "\\begin{tabular}{r|llll}\n",
       " original\\_number & area\\_code & exchange & line\\_number\\\\\n",
       "\\hline\n",
       "\t (541) 471 3918 & 541            & 471            & 3918          \\\\\n",
       "\t (603)281-0308  & 603            & 281            & 0308          \\\\\n",
       "\t (814)-462-8074 & 814            & 462            & 8074          \\\\\n",
       "\t 9704443106     & 970            & 444            & 3106          \\\\\n",
       "\\end{tabular}\n"
      ],
      "text/markdown": [
       "\n",
       "| original_number | area_code | exchange | line_number |\n",
       "|---|---|---|---|\n",
       "| (541) 471 3918 | 541            | 471            | 3918           |\n",
       "| (603)281-0308  | 603            | 281            | 0308           |\n",
       "| (814)-462-8074 | 814            | 462            | 8074           |\n",
       "| 9704443106     | 970            | 444            | 3106           |\n",
       "\n"
      ],
      "text/plain": [
       "  original_number area_code exchange line_number\n",
       "1 (541) 471 3918  541       471      3918       \n",
       "2 (603)281-0308   603       281      0308       \n",
       "3 (814)-462-8074  814       462      8074       \n",
       "4 9704443106      970       444      3106       "
      ]
     },
     "metadata": {},
     "output_type": "display_data"
    }
   ],
   "source": [
    "# Define phone pattern \n",
    "phone_pattern = \".?(\\\\d{3}).*(\\\\d{3}).*(\\\\d{4})\"\n",
    "\n",
    "# Match phone pattern to string \n",
    "phone$area_code = str_match(phone$original_number, phone_pattern)[, 2]\n",
    "phone$exchange = str_match(phone$original_number, phone_pattern)[, 3]\n",
    "phone$line_number = str_match(phone$original_number, phone_pattern)[, 4]\n",
    "\n",
    "# View data frame \n",
    "phone"
   ]
  },
  {
   "cell_type": "markdown",
   "id": "5697bac8",
   "metadata": {},
   "source": [
    "# Date "
   ]
  },
  {
   "cell_type": "code",
   "execution_count": 4,
   "id": "96849b3e",
   "metadata": {
    "scrolled": true
   },
   "outputs": [
    {
     "data": {
      "text/html": [
       "<table>\n",
       "<thead><tr><th scope=col>original_date</th></tr></thead>\n",
       "<tbody>\n",
       "\t<tr><td>20-02-2019</td></tr>\n",
       "\t<tr><td>15-07-2020</td></tr>\n",
       "\t<tr><td>14-09-2021</td></tr>\n",
       "</tbody>\n",
       "</table>\n"
      ],
      "text/latex": [
       "\\begin{tabular}{r|l}\n",
       " original\\_date\\\\\n",
       "\\hline\n",
       "\t 20-02-2019\\\\\n",
       "\t 15-07-2020\\\\\n",
       "\t 14-09-2021\\\\\n",
       "\\end{tabular}\n"
      ],
      "text/markdown": [
       "\n",
       "| original_date |\n",
       "|---|\n",
       "| 20-02-2019 |\n",
       "| 15-07-2020 |\n",
       "| 14-09-2021 |\n",
       "\n"
      ],
      "text/plain": [
       "  original_date\n",
       "1 20-02-2019   \n",
       "2 15-07-2020   \n",
       "3 14-09-2021   "
      ]
     },
     "metadata": {},
     "output_type": "display_data"
    }
   ],
   "source": [
    "# Dates with consistent delimiter \"-\"\n",
    "original_date = c('20-02-2019', '15-07-2020', '14-09-2021')\n",
    "date = as.data.frame(original_date)\n",
    "date"
   ]
  },
  {
   "cell_type": "markdown",
   "id": "7920cc9e",
   "metadata": {},
   "source": [
    "If dates had consistent delimiter, an alternative to regex is to use the strsplit function which splits the string based on a single delimiter as illustrated below."
   ]
  },
  {
   "cell_type": "code",
   "execution_count": 5,
   "id": "02f71a2b",
   "metadata": {
    "scrolled": true
   },
   "outputs": [
    {
     "data": {
      "text/html": [
       "<table>\n",
       "<thead><tr><th scope=col>original_date</th><th scope=col>day</th><th scope=col>month</th><th scope=col>year</th></tr></thead>\n",
       "<tbody>\n",
       "\t<tr><td>20-02-2019</td><td>20        </td><td>02        </td><td>2019      </td></tr>\n",
       "\t<tr><td>15-07-2020</td><td>15        </td><td>07        </td><td>2020      </td></tr>\n",
       "\t<tr><td>14-09-2021</td><td>14        </td><td>09        </td><td>2021      </td></tr>\n",
       "</tbody>\n",
       "</table>\n"
      ],
      "text/latex": [
       "\\begin{tabular}{r|llll}\n",
       " original\\_date & day & month & year\\\\\n",
       "\\hline\n",
       "\t 20-02-2019 & 20         & 02         & 2019      \\\\\n",
       "\t 15-07-2020 & 15         & 07         & 2020      \\\\\n",
       "\t 14-09-2021 & 14         & 09         & 2021      \\\\\n",
       "\\end{tabular}\n"
      ],
      "text/markdown": [
       "\n",
       "| original_date | day | month | year |\n",
       "|---|---|---|---|\n",
       "| 20-02-2019 | 20         | 02         | 2019       |\n",
       "| 15-07-2020 | 15         | 07         | 2020       |\n",
       "| 14-09-2021 | 14         | 09         | 2021       |\n",
       "\n"
      ],
      "text/plain": [
       "  original_date day month year\n",
       "1 20-02-2019    20  02    2019\n",
       "2 15-07-2020    15  07    2020\n",
       "3 14-09-2021    14  09    2021"
      ]
     },
     "metadata": {},
     "output_type": "display_data"
    }
   ],
   "source": [
    "# Create new columns for day, month and year using strsplit function \n",
    "date$day = sapply(strsplit(as.character(date$original_date), split = \"-\"), \"[\", 1)\n",
    "date$month = sapply(strsplit(as.character(date$original_date), split = \"-\"), \"[\", 2)\n",
    "date$year = sapply(strsplit(as.character(date$original_date), split = \"-\"), \"[\", 3)\n",
    "\n",
    "# View date data frame\n",
    "date"
   ]
  },
  {
   "cell_type": "markdown",
   "id": "b6a2bb71",
   "metadata": {},
   "source": [
    "But what happens when the delimiter becomes inconsistent? We would need regex to account for the variety of special characters being used here and only capture the digit characters. "
   ]
  },
  {
   "cell_type": "code",
   "execution_count": 6,
   "id": "4afaa530",
   "metadata": {},
   "outputs": [
    {
     "data": {
      "text/html": [
       "<table>\n",
       "<thead><tr><th scope=col>original_date</th></tr></thead>\n",
       "<tbody>\n",
       "\t<tr><td>20-02-2019</td></tr>\n",
       "\t<tr><td>15/07/2020</td></tr>\n",
       "\t<tr><td>14.09.2021</td></tr>\n",
       "</tbody>\n",
       "</table>\n"
      ],
      "text/latex": [
       "\\begin{tabular}{r|l}\n",
       " original\\_date\\\\\n",
       "\\hline\n",
       "\t 20-02-2019\\\\\n",
       "\t 15/07/2020\\\\\n",
       "\t 14.09.2021\\\\\n",
       "\\end{tabular}\n"
      ],
      "text/markdown": [
       "\n",
       "| original_date |\n",
       "|---|\n",
       "| 20-02-2019 |\n",
       "| 15/07/2020 |\n",
       "| 14.09.2021 |\n",
       "\n"
      ],
      "text/plain": [
       "  original_date\n",
       "1 20-02-2019   \n",
       "2 15/07/2020   \n",
       "3 14.09.2021   "
      ]
     },
     "metadata": {},
     "output_type": "display_data"
    }
   ],
   "source": [
    "original_date = c('20-02-2019', '15/07/2020', '14.09.2021')\n",
    "date = as.data.frame(original_date)\n",
    "date"
   ]
  },
  {
   "cell_type": "code",
   "execution_count": 7,
   "id": "5627e820",
   "metadata": {},
   "outputs": [
    {
     "data": {
      "text/html": [
       "<table>\n",
       "<thead><tr><th scope=col>original_date</th><th scope=col>day</th><th scope=col>month</th><th scope=col>year</th></tr></thead>\n",
       "<tbody>\n",
       "\t<tr><td>20-02-2019</td><td>20        </td><td>02        </td><td>2019      </td></tr>\n",
       "\t<tr><td>15/07/2020</td><td>15        </td><td>07        </td><td>2020      </td></tr>\n",
       "\t<tr><td>14.09.2021</td><td>14        </td><td>09        </td><td>2021      </td></tr>\n",
       "</tbody>\n",
       "</table>\n"
      ],
      "text/latex": [
       "\\begin{tabular}{r|llll}\n",
       " original\\_date & day & month & year\\\\\n",
       "\\hline\n",
       "\t 20-02-2019 & 20         & 02         & 2019      \\\\\n",
       "\t 15/07/2020 & 15         & 07         & 2020      \\\\\n",
       "\t 14.09.2021 & 14         & 09         & 2021      \\\\\n",
       "\\end{tabular}\n"
      ],
      "text/markdown": [
       "\n",
       "| original_date | day | month | year |\n",
       "|---|---|---|---|\n",
       "| 20-02-2019 | 20         | 02         | 2019       |\n",
       "| 15/07/2020 | 15         | 07         | 2020       |\n",
       "| 14.09.2021 | 14         | 09         | 2021       |\n",
       "\n"
      ],
      "text/plain": [
       "  original_date day month year\n",
       "1 20-02-2019    20  02    2019\n",
       "2 15/07/2020    15  07    2020\n",
       "3 14.09.2021    14  09    2021"
      ]
     },
     "metadata": {},
     "output_type": "display_data"
    }
   ],
   "source": [
    "# Define date pattern \n",
    "date_pattern = \"(\\\\d{2}).(\\\\d{2}).(\\\\d{4})\"\n",
    "\n",
    "# Create new columns for day, month and year \n",
    "date$day = str_match(date$original_date, date_pattern)[, 2]\n",
    "date$month = str_match(date$original_date, date_pattern)[, 3]\n",
    "date$year = str_match(date$original_date, date_pattern)[, 4]\n",
    "\n",
    "# View date data frame\n",
    "date"
   ]
  },
  {
   "cell_type": "markdown",
   "id": "b8690303",
   "metadata": {},
   "source": [
    "# Names"
   ]
  },
  {
   "cell_type": "code",
   "execution_count": 8,
   "id": "6ce11cce",
   "metadata": {},
   "outputs": [
    {
     "data": {
      "text/html": [
       "<table>\n",
       "<thead><tr><th scope=col>full_name</th></tr></thead>\n",
       "<tbody>\n",
       "\t<tr><td>Smith, Mr. John       </td></tr>\n",
       "\t<tr><td>Davis, Ms Nicole      </td></tr>\n",
       "\t<tr><td>Robinson, Mrs. Rebecca</td></tr>\n",
       "\t<tr><td>Armstrong, Dr Sam     </td></tr>\n",
       "\t<tr><td>Downey, Mr. Robert    </td></tr>\n",
       "</tbody>\n",
       "</table>\n"
      ],
      "text/latex": [
       "\\begin{tabular}{r|l}\n",
       " full\\_name\\\\\n",
       "\\hline\n",
       "\t Smith, Mr. John       \\\\\n",
       "\t Davis, Ms Nicole      \\\\\n",
       "\t Robinson, Mrs. Rebecca\\\\\n",
       "\t Armstrong, Dr Sam     \\\\\n",
       "\t Downey, Mr. Robert    \\\\\n",
       "\\end{tabular}\n"
      ],
      "text/markdown": [
       "\n",
       "| full_name |\n",
       "|---|\n",
       "| Smith, Mr. John        |\n",
       "| Davis, Ms Nicole       |\n",
       "| Robinson, Mrs. Rebecca |\n",
       "| Armstrong, Dr Sam      |\n",
       "| Downey, Mr. Robert     |\n",
       "\n"
      ],
      "text/plain": [
       "  full_name             \n",
       "1 Smith, Mr. John       \n",
       "2 Davis, Ms Nicole      \n",
       "3 Robinson, Mrs. Rebecca\n",
       "4 Armstrong, Dr Sam     \n",
       "5 Downey, Mr. Robert    "
      ]
     },
     "metadata": {},
     "output_type": "display_data"
    }
   ],
   "source": [
    "full_name = c(\"Smith, Mr. John\", \"Davis, Ms Nicole\", \"Robinson, Mrs. Rebecca\", \"Armstrong, Dr Sam\", \"Downey, Mr. Robert\")\n",
    "names = as.data.frame(full_name)\n",
    "names"
   ]
  },
  {
   "cell_type": "code",
   "execution_count": 9,
   "id": "cb3a80be",
   "metadata": {},
   "outputs": [
    {
     "data": {
      "text/html": [
       "<table>\n",
       "<thead><tr><th scope=col>full_name</th><th scope=col>family_name</th><th scope=col>title</th><th scope=col>given_name</th></tr></thead>\n",
       "<tbody>\n",
       "\t<tr><td>Smith, Mr. John       </td><td>Smith                 </td><td>Mr                    </td><td>John                  </td></tr>\n",
       "\t<tr><td>Davis, Ms Nicole      </td><td>Davis                 </td><td>Ms                    </td><td>Nicole                </td></tr>\n",
       "\t<tr><td>Robinson, Mrs. Rebecca</td><td>Robinson              </td><td>Mrs                   </td><td>Rebecca               </td></tr>\n",
       "\t<tr><td>Armstrong, Dr Sam     </td><td>Armstrong             </td><td>Dr                    </td><td>Sam                   </td></tr>\n",
       "\t<tr><td>Downey, Mr. Robert    </td><td>Downey                </td><td>Mr                    </td><td>Robert                </td></tr>\n",
       "</tbody>\n",
       "</table>\n"
      ],
      "text/latex": [
       "\\begin{tabular}{r|llll}\n",
       " full\\_name & family\\_name & title & given\\_name\\\\\n",
       "\\hline\n",
       "\t Smith, Mr. John        & Smith                  & Mr                     & John                  \\\\\n",
       "\t Davis, Ms Nicole       & Davis                  & Ms                     & Nicole                \\\\\n",
       "\t Robinson, Mrs. Rebecca & Robinson               & Mrs                    & Rebecca               \\\\\n",
       "\t Armstrong, Dr Sam      & Armstrong              & Dr                     & Sam                   \\\\\n",
       "\t Downey, Mr. Robert     & Downey                 & Mr                     & Robert                \\\\\n",
       "\\end{tabular}\n"
      ],
      "text/markdown": [
       "\n",
       "| full_name | family_name | title | given_name |\n",
       "|---|---|---|---|\n",
       "| Smith, Mr. John        | Smith                  | Mr                     | John                   |\n",
       "| Davis, Ms Nicole       | Davis                  | Ms                     | Nicole                 |\n",
       "| Robinson, Mrs. Rebecca | Robinson               | Mrs                    | Rebecca                |\n",
       "| Armstrong, Dr Sam      | Armstrong              | Dr                     | Sam                    |\n",
       "| Downey, Mr. Robert     | Downey                 | Mr                     | Robert                 |\n",
       "\n"
      ],
      "text/plain": [
       "  full_name              family_name title given_name\n",
       "1 Smith, Mr. John        Smith       Mr    John      \n",
       "2 Davis, Ms Nicole       Davis       Ms    Nicole    \n",
       "3 Robinson, Mrs. Rebecca Robinson    Mrs   Rebecca   \n",
       "4 Armstrong, Dr Sam      Armstrong   Dr    Sam       \n",
       "5 Downey, Mr. Robert     Downey      Mr    Robert    "
      ]
     },
     "metadata": {},
     "output_type": "display_data"
    }
   ],
   "source": [
    "# Create name pattern \n",
    "name_pattern = \"(\\\\w+),\\\\s(Mr|Ms|Mrs|Dr).?\\\\s(\\\\w+)\"\n",
    "\n",
    "# Match name pattern to retrieve full name, title and given name\n",
    "names$family_name = str_match(names$full_name, name_pattern)[, 2]\n",
    "names$title = str_match(names$full_name, name_pattern)[, 3]\n",
    "names$given_name = str_match(names$full_name, name_pattern)[, 4]\n",
    "\n",
    "# View name data frame \n",
    "names"
   ]
  },
  {
   "cell_type": "markdown",
   "id": "74e69076",
   "metadata": {},
   "source": [
    "We can also use regex to filter rows in the data frame. For instance, here only want to see rows where given name begins with the letter 'R' using two different functions: grepl and startsWith. "
   ]
  },
  {
   "cell_type": "code",
   "execution_count": 10,
   "id": "1e65c508",
   "metadata": {
    "scrolled": true
   },
   "outputs": [
    {
     "data": {
      "text/html": [
       "<table>\n",
       "<thead><tr><th scope=col>full_name</th><th scope=col>family_name</th><th scope=col>title</th><th scope=col>given_name</th></tr></thead>\n",
       "<tbody>\n",
       "\t<tr><td>Robinson, Mrs. Rebecca</td><td>Robinson              </td><td>Mrs                   </td><td>Rebecca               </td></tr>\n",
       "\t<tr><td>Downey, Mr. Robert    </td><td>Downey                </td><td>Mr                    </td><td>Robert                </td></tr>\n",
       "</tbody>\n",
       "</table>\n"
      ],
      "text/latex": [
       "\\begin{tabular}{r|llll}\n",
       " full\\_name & family\\_name & title & given\\_name\\\\\n",
       "\\hline\n",
       "\t Robinson, Mrs. Rebecca & Robinson               & Mrs                    & Rebecca               \\\\\n",
       "\t Downey, Mr. Robert     & Downey                 & Mr                     & Robert                \\\\\n",
       "\\end{tabular}\n"
      ],
      "text/markdown": [
       "\n",
       "| full_name | family_name | title | given_name |\n",
       "|---|---|---|---|\n",
       "| Robinson, Mrs. Rebecca | Robinson               | Mrs                    | Rebecca                |\n",
       "| Downey, Mr. Robert     | Downey                 | Mr                     | Robert                 |\n",
       "\n"
      ],
      "text/plain": [
       "  full_name              family_name title given_name\n",
       "1 Robinson, Mrs. Rebecca Robinson    Mrs   Rebecca   \n",
       "2 Downey, Mr. Robert     Downey      Mr    Robert    "
      ]
     },
     "metadata": {},
     "output_type": "display_data"
    }
   ],
   "source": [
    "# grepl function \n",
    "names %>% filter(grepl(\"^R.*\", given_name))"
   ]
  },
  {
   "cell_type": "code",
   "execution_count": 11,
   "id": "d57b76d5",
   "metadata": {},
   "outputs": [
    {
     "data": {
      "text/html": [
       "<table>\n",
       "<thead><tr><th></th><th scope=col>full_name</th><th scope=col>family_name</th><th scope=col>title</th><th scope=col>given_name</th></tr></thead>\n",
       "<tbody>\n",
       "\t<tr><th scope=row>3</th><td>Robinson, Mrs. Rebecca</td><td>Robinson              </td><td>Mrs                   </td><td>Rebecca               </td></tr>\n",
       "\t<tr><th scope=row>5</th><td>Downey, Mr. Robert    </td><td>Downey                </td><td>Mr                    </td><td>Robert                </td></tr>\n",
       "</tbody>\n",
       "</table>\n"
      ],
      "text/latex": [
       "\\begin{tabular}{r|llll}\n",
       "  & full\\_name & family\\_name & title & given\\_name\\\\\n",
       "\\hline\n",
       "\t3 & Robinson, Mrs. Rebecca & Robinson               & Mrs                    & Rebecca               \\\\\n",
       "\t5 & Downey, Mr. Robert     & Downey                 & Mr                     & Robert                \\\\\n",
       "\\end{tabular}\n"
      ],
      "text/markdown": [
       "\n",
       "| <!--/--> | full_name | family_name | title | given_name |\n",
       "|---|---|---|---|---|\n",
       "| 3 | Robinson, Mrs. Rebecca | Robinson               | Mrs                    | Rebecca                |\n",
       "| 5 | Downey, Mr. Robert     | Downey                 | Mr                     | Robert                 |\n",
       "\n"
      ],
      "text/plain": [
       "  full_name              family_name title given_name\n",
       "3 Robinson, Mrs. Rebecca Robinson    Mrs   Rebecca   \n",
       "5 Downey, Mr. Robert     Downey      Mr    Robert    "
      ]
     },
     "metadata": {},
     "output_type": "display_data"
    }
   ],
   "source": [
    "# startsWith function \n",
    "names[startsWith(names$given_name, \"R\"), ]"
   ]
  },
  {
   "cell_type": "markdown",
   "id": "982d55d4",
   "metadata": {},
   "source": [
    "# URL"
   ]
  },
  {
   "attachments": {
    "image.png": {
     "image/png": "[encoded data removed]"
    }
   },
   "cell_type": "markdown",
   "id": "cc622bb7",
   "metadata": {},
   "source": [
    "![image.png](attachment:image.png)"
   ]
  },
  {
   "cell_type": "code",
   "execution_count": 12,
   "id": "7f40950c",
   "metadata": {},
   "outputs": [
    {
     "data": {
      "text/html": [
       "<table>\n",
       "<thead><tr><th scope=col>full_url</th></tr></thead>\n",
       "<tbody>\n",
       "\t<tr><td>https://www.google.com/gmail</td></tr>\n",
       "\t<tr><td>http://www.medium.com       </td></tr>\n",
       "\t<tr><td>https://twitter.com/home    </td></tr>\n",
       "</tbody>\n",
       "</table>\n"
      ],
      "text/latex": [
       "\\begin{tabular}{r|l}\n",
       " full\\_url\\\\\n",
       "\\hline\n",
       "\t https://www.google.com/gmail\\\\\n",
       "\t http://www.medium.com       \\\\\n",
       "\t https://twitter.com/home    \\\\\n",
       "\\end{tabular}\n"
      ],
      "text/markdown": [
       "\n",
       "| full_url |\n",
       "|---|\n",
       "| https://www.google.com/gmail |\n",
       "| http://www.medium.com        |\n",
       "| https://twitter.com/home     |\n",
       "\n"
      ],
      "text/plain": [
       "  full_url                    \n",
       "1 https://www.google.com/gmail\n",
       "2 http://www.medium.com       \n",
       "3 https://twitter.com/home    "
      ]
     },
     "metadata": {},
     "output_type": "display_data"
    }
   ],
   "source": [
    "full_url = c(\"https://www.google.com/gmail\",\n",
    "            \"http://www.medium.com\", \n",
    "            \"https://twitter.com/home\")\n",
    "url = as.data.frame(full_url)\n",
    "url"
   ]
  },
  {
   "cell_type": "code",
   "execution_count": 13,
   "id": "860e5d63",
   "metadata": {},
   "outputs": [
    {
     "data": {
      "text/html": [
       "<table>\n",
       "<thead><tr><th scope=col>full_url</th><th scope=col>schema</th><th scope=col>subdomain</th><th scope=col>second_level_domain</th><th scope=col>top_level_domain</th><th scope=col>subdirectory</th></tr></thead>\n",
       "<tbody>\n",
       "\t<tr><td>https://www.google.com/gmail</td><td>https                       </td><td>www                         </td><td>google                      </td><td>com                         </td><td>gmail                       </td></tr>\n",
       "\t<tr><td>http://www.medium.com       </td><td>http                        </td><td>www                         </td><td>medium                      </td><td>com                         </td><td>NA                          </td></tr>\n",
       "\t<tr><td>https://twitter.com/home    </td><td>https                       </td><td>NA                          </td><td>witter                      </td><td>com                         </td><td>home                        </td></tr>\n",
       "</tbody>\n",
       "</table>\n"
      ],
      "text/latex": [
       "\\begin{tabular}{r|llllll}\n",
       " full\\_url & schema & subdomain & second\\_level\\_domain & top\\_level\\_domain & subdirectory\\\\\n",
       "\\hline\n",
       "\t https://www.google.com/gmail & https                        & www                          & google                       & com                          & gmail                       \\\\\n",
       "\t http://www.medium.com        & http                         & www                          & medium                       & com                          & NA                          \\\\\n",
       "\t https://twitter.com/home     & https                        & NA                           & witter                       & com                          & home                        \\\\\n",
       "\\end{tabular}\n"
      ],
      "text/markdown": [
       "\n",
       "| full_url | schema | subdomain | second_level_domain | top_level_domain | subdirectory |\n",
       "|---|---|---|---|---|---|\n",
       "| https://www.google.com/gmail | https                        | www                          | google                       | com                          | gmail                        |\n",
       "| http://www.medium.com        | http                         | www                          | medium                       | com                          | NA                           |\n",
       "| https://twitter.com/home     | https                        | NA                           | witter                       | com                          | home                         |\n",
       "\n"
      ],
      "text/plain": [
       "  full_url                     schema subdomain second_level_domain\n",
       "1 https://www.google.com/gmail https  www       google             \n",
       "2 http://www.medium.com        http   www       medium             \n",
       "3 https://twitter.com/home     https  NA        witter             \n",
       "  top_level_domain subdirectory\n",
       "1 com              gmail       \n",
       "2 com              NA          \n",
       "3 com              home        "
      ]
     },
     "metadata": {},
     "output_type": "display_data"
    }
   ],
   "source": [
    "# Define URL pattern \n",
    "url_pattern = \"(https?)://(www)?.?(\\\\w+).(\\\\w+)/?(\\\\w+)?\"\n",
    "\n",
    "# Match URL pattern \n",
    "url$schema = str_match(url$full_url, url_pattern)[, 2]\n",
    "url$subdomain = str_match(url$full_url, url_pattern)[, 3]\n",
    "url$second_level_domain = str_match(url$full_url, url_pattern)[, 4]\n",
    "url$top_level_domain = str_match(url$full_url, url_pattern)[, 5]\n",
    "url$subdirectory = str_match(url$full_url, url_pattern)[, 6]\n",
    "\n",
    "# View URL data frame \n",
    "url"
   ]
  },
  {
   "cell_type": "markdown",
   "id": "178deba0",
   "metadata": {},
   "source": [
    "# Email address"
   ]
  },
  {
   "cell_type": "code",
   "execution_count": 14,
   "id": "3ff8c58c",
   "metadata": {},
   "outputs": [
    {
     "data": {
      "text/html": [
       "<table>\n",
       "<thead><tr><th scope=col>full_email</th></tr></thead>\n",
       "<tbody>\n",
       "\t<tr><td>jasonchong_98@hotmail.com    </td></tr>\n",
       "\t<tr><td>jason-chong-14@unimelb.edu.au</td></tr>\n",
       "\t<tr><td>Jason.Chong@quantium.com.au  </td></tr>\n",
       "</tbody>\n",
       "</table>\n"
      ],
      "text/latex": [
       "\\begin{tabular}{r|l}\n",
       " full\\_email\\\\\n",
       "\\hline\n",
       "\t jasonchong\\_98@hotmail.com    \\\\\n",
       "\t jason-chong-14@unimelb.edu.au\\\\\n",
       "\t Jason.Chong@quantium.com.au  \\\\\n",
       "\\end{tabular}\n"
      ],
      "text/markdown": [
       "\n",
       "| full_email |\n",
       "|---|\n",
       "| jasonchong_98@hotmail.com     |\n",
       "| jason-chong-14@unimelb.edu.au |\n",
       "| Jason.Chong@quantium.com.au   |\n",
       "\n"
      ],
      "text/plain": [
       "  full_email                   \n",
       "1 jasonchong_98@hotmail.com    \n",
       "2 jason-chong-14@unimelb.edu.au\n",
       "3 Jason.Chong@quantium.com.au  "
      ]
     },
     "metadata": {},
     "output_type": "display_data"
    }
   ],
   "source": [
    "full_email = c(\"jasonchong_98@hotmail.com\", \n",
    "              \"jason-chong-14@unimelb.edu.au\",\n",
    "              \"Jason.Chong@quantium.com.au\")\n",
    "email = as.data.frame(full_email)\n",
    "email"
   ]
  },
  {
   "cell_type": "code",
   "execution_count": 15,
   "id": "4334ed69",
   "metadata": {},
   "outputs": [
    {
     "data": {
      "text/html": [
       "<table>\n",
       "<thead><tr><th scope=col>full_email</th><th scope=col>username</th><th scope=col>domain_name</th><th scope=col>domain</th></tr></thead>\n",
       "<tbody>\n",
       "\t<tr><td>jasonchong_98@hotmail.com    </td><td>jasonchong_98                </td><td>hotmail                      </td><td>com                          </td></tr>\n",
       "\t<tr><td>jason-chong-14@unimelb.edu.au</td><td>jason-chong-14               </td><td>unimelb                      </td><td>edu.au                       </td></tr>\n",
       "\t<tr><td>Jason.Chong@quantium.com.au  </td><td>Jason.Chong                  </td><td>quantium                     </td><td>com.au                       </td></tr>\n",
       "</tbody>\n",
       "</table>\n"
      ],
      "text/latex": [
       "\\begin{tabular}{r|llll}\n",
       " full\\_email & username & domain\\_name & domain\\\\\n",
       "\\hline\n",
       "\t jasonchong\\_98@hotmail.com     & jasonchong\\_98                 & hotmail                         & com                            \\\\\n",
       "\t jason-chong-14@unimelb.edu.au & jason-chong-14                & unimelb                       & edu.au                       \\\\\n",
       "\t Jason.Chong@quantium.com.au   & Jason.Chong                   & quantium                      & com.au                       \\\\\n",
       "\\end{tabular}\n"
      ],
      "text/markdown": [
       "\n",
       "| full_email | username | domain_name | domain |\n",
       "|---|---|---|---|\n",
       "| jasonchong_98@hotmail.com     | jasonchong_98                 | hotmail                       | com                           |\n",
       "| jason-chong-14@unimelb.edu.au | jason-chong-14                | unimelb                       | edu.au                        |\n",
       "| Jason.Chong@quantium.com.au   | Jason.Chong                   | quantium                      | com.au                        |\n",
       "\n"
      ],
      "text/plain": [
       "  full_email                    username       domain_name domain\n",
       "1 jasonchong_98@hotmail.com     jasonchong_98  hotmail     com   \n",
       "2 jason-chong-14@unimelb.edu.au jason-chong-14 unimelb     edu.au\n",
       "3 Jason.Chong@quantium.com.au   Jason.Chong    quantium    com.au"
      ]
     },
     "metadata": {},
     "output_type": "display_data"
    }
   ],
   "source": [
    "# Define email pattern \n",
    "email_pattern = \"([a-zA-Z0-9\\\\_\\\\-\\\\.]+)@([a-zA-Z]+).(.+)\"\n",
    "\n",
    "# Match email pattern and create new columns for username, domain name and domain \n",
    "email$username = str_match(email$full_email, email_pattern)[, 2]\n",
    "email$domain_name = str_match(email$full_email, email_pattern)[, 3]\n",
    "email$domain = str_match(email$full_email, email_pattern)[, 4]\n",
    "\n",
    "# View email data frame \n",
    "email"
   ]
  },
  {
   "cell_type": "markdown",
   "id": "d77178ee",
   "metadata": {},
   "source": [
    "# Address"
   ]
  },
  {
   "cell_type": "code",
   "execution_count": 16,
   "id": "8a949288",
   "metadata": {},
   "outputs": [
    {
     "data": {
      "text/html": [
       "<table>\n",
       "<thead><tr><th scope=col>full_address</th></tr></thead>\n",
       "<tbody>\n",
       "\t<tr><td>21 Bungana Drive, Kybunga SA 5453          </td></tr>\n",
       "\t<tr><td>Thomas Lane, Fitzroy North VIC 3068        </td></tr>\n",
       "\t<tr><td>107 Quayside Vista, Kingston ACT 2604      </td></tr>\n",
       "\t<tr><td>94 Prince Street, Lower Coldstream NSW 2460</td></tr>\n",
       "\t<tr><td>George Street, Brisbane QLD 4000           </td></tr>\n",
       "</tbody>\n",
       "</table>\n"
      ],
      "text/latex": [
       "\\begin{tabular}{r|l}\n",
       " full\\_address\\\\\n",
       "\\hline\n",
       "\t 21 Bungana Drive, Kybunga SA 5453          \\\\\n",
       "\t Thomas Lane, Fitzroy North VIC 3068        \\\\\n",
       "\t 107 Quayside Vista, Kingston ACT 2604      \\\\\n",
       "\t 94 Prince Street, Lower Coldstream NSW 2460\\\\\n",
       "\t George Street, Brisbane QLD 4000           \\\\\n",
       "\\end{tabular}\n"
      ],
      "text/markdown": [
       "\n",
       "| full_address |\n",
       "|---|\n",
       "| 21 Bungana Drive, Kybunga SA 5453           |\n",
       "| Thomas Lane, Fitzroy North VIC 3068         |\n",
       "| 107 Quayside Vista, Kingston ACT 2604       |\n",
       "| 94 Prince Street, Lower Coldstream NSW 2460 |\n",
       "| George Street, Brisbane QLD 4000            |\n",
       "\n"
      ],
      "text/plain": [
       "  full_address                               \n",
       "1 21 Bungana Drive, Kybunga SA 5453          \n",
       "2 Thomas Lane, Fitzroy North VIC 3068        \n",
       "3 107 Quayside Vista, Kingston ACT 2604      \n",
       "4 94 Prince Street, Lower Coldstream NSW 2460\n",
       "5 George Street, Brisbane QLD 4000           "
      ]
     },
     "metadata": {},
     "output_type": "display_data"
    }
   ],
   "source": [
    "full_address = c(\"21 Bungana Drive, Kybunga SA 5453\", \n",
    "                \"Thomas Lane, Fitzroy North VIC 3068\",\n",
    "                \"107 Quayside Vista, Kingston ACT 2604\",\n",
    "                \"94 Prince Street, Lower Coldstream NSW 2460\", \n",
    "                \"George Street, Brisbane QLD 4000\")\n",
    "address = as.data.frame(full_address)\n",
    "address"
   ]
  },
  {
   "cell_type": "code",
   "execution_count": 17,
   "id": "2ac59865",
   "metadata": {},
   "outputs": [
    {
     "data": {
      "text/html": [
       "<table>\n",
       "<thead><tr><th scope=col>full_address</th><th scope=col>house_number</th><th scope=col>street_name</th><th scope=col>suburb</th><th scope=col>state</th><th scope=col>postcode</th></tr></thead>\n",
       "<tbody>\n",
       "\t<tr><td>21 Bungana Drive, Kybunga SA 5453          </td><td>21                                         </td><td>Bungana Drive                              </td><td>Kybunga                                    </td><td>SA                                         </td><td>5453                                       </td></tr>\n",
       "\t<tr><td>Thomas Lane, Fitzroy North VIC 3068        </td><td>                                           </td><td>Thomas Lane                                </td><td>Fitzroy North                              </td><td>VIC                                        </td><td>3068                                       </td></tr>\n",
       "\t<tr><td>107 Quayside Vista, Kingston ACT 2604      </td><td>107                                        </td><td>Quayside Vista                             </td><td>Kingston                                   </td><td>ACT                                        </td><td>2604                                       </td></tr>\n",
       "\t<tr><td>94 Prince Street, Lower Coldstream NSW 2460</td><td>94                                         </td><td>Prince Street                              </td><td>Lower Coldstream                           </td><td>NSW                                        </td><td>2460                                       </td></tr>\n",
       "\t<tr><td>George Street, Brisbane QLD 4000           </td><td>                                           </td><td>George Street                              </td><td>Brisbane                                   </td><td>QLD                                        </td><td>4000                                       </td></tr>\n",
       "</tbody>\n",
       "</table>\n"
      ],
      "text/latex": [
       "\\begin{tabular}{r|llllll}\n",
       " full\\_address & house\\_number & street\\_name & suburb & state & postcode\\\\\n",
       "\\hline\n",
       "\t 21 Bungana Drive, Kybunga SA 5453           & 21                                          & Bungana Drive                               & Kybunga                                     & SA                                          & 5453                                       \\\\\n",
       "\t Thomas Lane, Fitzroy North VIC 3068         &                                             & Thomas Lane                                 & Fitzroy North                               & VIC                                         & 3068                                       \\\\\n",
       "\t 107 Quayside Vista, Kingston ACT 2604       & 107                                         & Quayside Vista                              & Kingston                                    & ACT                                         & 2604                                       \\\\\n",
       "\t 94 Prince Street, Lower Coldstream NSW 2460 & 94                                          & Prince Street                               & Lower Coldstream                            & NSW                                         & 2460                                       \\\\\n",
       "\t George Street, Brisbane QLD 4000            &                                             & George Street                               & Brisbane                                    & QLD                                         & 4000                                       \\\\\n",
       "\\end{tabular}\n"
      ],
      "text/markdown": [
       "\n",
       "| full_address | house_number | street_name | suburb | state | postcode |\n",
       "|---|---|---|---|---|---|\n",
       "| 21 Bungana Drive, Kybunga SA 5453           | 21                                          | Bungana Drive                               | Kybunga                                     | SA                                          | 5453                                        |\n",
       "| Thomas Lane, Fitzroy North VIC 3068         |                                             | Thomas Lane                                 | Fitzroy North                               | VIC                                         | 3068                                        |\n",
       "| 107 Quayside Vista, Kingston ACT 2604       | 107                                         | Quayside Vista                              | Kingston                                    | ACT                                         | 2604                                        |\n",
       "| 94 Prince Street, Lower Coldstream NSW 2460 | 94                                          | Prince Street                               | Lower Coldstream                            | NSW                                         | 2460                                        |\n",
       "| George Street, Brisbane QLD 4000            |                                             | George Street                               | Brisbane                                    | QLD                                         | 4000                                        |\n",
       "\n"
      ],
      "text/plain": [
       "  full_address                                house_number street_name   \n",
       "1 21 Bungana Drive, Kybunga SA 5453           21           Bungana Drive \n",
       "2 Thomas Lane, Fitzroy North VIC 3068                      Thomas Lane   \n",
       "3 107 Quayside Vista, Kingston ACT 2604       107          Quayside Vista\n",
       "4 94 Prince Street, Lower Coldstream NSW 2460 94           Prince Street \n",
       "5 George Street, Brisbane QLD 4000                         George Street \n",
       "  suburb           state postcode\n",
       "1 Kybunga          SA    5453    \n",
       "2 Fitzroy North    VIC   3068    \n",
       "3 Kingston         ACT   2604    \n",
       "4 Lower Coldstream NSW   2460    \n",
       "5 Brisbane         QLD   4000    "
      ]
     },
     "metadata": {},
     "output_type": "display_data"
    }
   ],
   "source": [
    "# Define address pattern \n",
    "address_pattern = \"(\\\\d*)\\\\s?(.+),\\\\s(.+)\\\\s([A-Z]{2,3})\\\\s(\\\\d{4})\"\n",
    "\n",
    "# Match address pattern \n",
    "address$house_number = str_match(address$full_address, address_pattern)[, 2]\n",
    "address$street_name = str_match(address$full_address, address_pattern)[, 3]\n",
    "address$suburb = str_match(address$full_address, address_pattern)[, 4]\n",
    "address$state = str_match(address$full_address, address_pattern)[, 5]\n",
    "address$postcode = str_match(address$full_address, address_pattern)[, 6]\n",
    "\n",
    "# View address data frame \n",
    "address"
   ]
  }
 ],
 "metadata": {
  "kernelspec": {
   "display_name": "R",
   "language": "R",
   "name": "ir"
  },
  "language_info": {
   "codemirror_mode": "r",
   "file_extension": ".r",
   "mimetype": "text/x-r-source",
   "name": "R",
   "pygments_lexer": "r",
   "version": "3.6.1"
  }
 },
 "nbformat": 4,
 "nbformat_minor": 5
}
