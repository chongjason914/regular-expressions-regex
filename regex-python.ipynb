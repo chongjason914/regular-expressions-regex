{
 "cells": [
  {
   "cell_type": "code",
   "execution_count": 1,
   "id": "d32cba63",
   "metadata": {},
   "outputs": [],
   "source": [
    "import pandas as pd \n",
    "import re\n",
    "import string"
   ]
  },
  {
   "cell_type": "markdown",
   "id": "98dba487",
   "metadata": {},
   "source": [
    "# Phone number "
   ]
  },
  {
   "cell_type": "code",
   "execution_count": 2,
   "id": "2f499525",
   "metadata": {},
   "outputs": [
    {
     "data": {
      "text/html": [
       "<div>\n",
       "<style scoped>\n",
       "    .dataframe tbody tr th:only-of-type {\n",
       "        vertical-align: middle;\n",
       "    }\n",
       "\n",
       "    .dataframe tbody tr th {\n",
       "        vertical-align: top;\n",
       "    }\n",
       "\n",
       "    .dataframe thead th {\n",
       "        text-align: right;\n",
       "    }\n",
       "</style>\n",
       "<table border=\"1\" class=\"dataframe\">\n",
       "  <thead>\n",
       "    <tr style=\"text-align: right;\">\n",
       "      <th></th>\n",
       "      <th>original_number</th>\n",
       "    </tr>\n",
       "  </thead>\n",
       "  <tbody>\n",
       "    <tr>\n",
       "      <th>0</th>\n",
       "      <td>9704443106</td>\n",
       "    </tr>\n",
       "    <tr>\n",
       "      <th>1</th>\n",
       "      <td>(541) 471 3918</td>\n",
       "    </tr>\n",
       "    <tr>\n",
       "      <th>2</th>\n",
       "      <td>(814)-462-8074</td>\n",
       "    </tr>\n",
       "    <tr>\n",
       "      <th>3</th>\n",
       "      <td>(603)281-0308</td>\n",
       "    </tr>\n",
       "  </tbody>\n",
       "</table>\n",
       "</div>"
      ],
      "text/plain": [
       "  original_number\n",
       "0      9704443106\n",
       "1  (541) 471 3918\n",
       "2  (814)-462-8074\n",
       "3   (603)281-0308"
      ]
     },
     "execution_count": 2,
     "metadata": {},
     "output_type": "execute_result"
    }
   ],
   "source": [
    "phone = pd.DataFrame({\"(541) 471 3918\",\n",
    "              \"(603)281-0308\",\n",
    "               \"(814)-462-8074\",\n",
    "               \"9704443106\"}, columns = [\"original_number\"])\n",
    "phone"
   ]
  },
  {
   "cell_type": "code",
   "execution_count": 3,
   "id": "33b0f69a",
   "metadata": {},
   "outputs": [
    {
     "data": {
      "text/html": [
       "<div>\n",
       "<style scoped>\n",
       "    .dataframe tbody tr th:only-of-type {\n",
       "        vertical-align: middle;\n",
       "    }\n",
       "\n",
       "    .dataframe tbody tr th {\n",
       "        vertical-align: top;\n",
       "    }\n",
       "\n",
       "    .dataframe thead th {\n",
       "        text-align: right;\n",
       "    }\n",
       "</style>\n",
       "<table border=\"1\" class=\"dataframe\">\n",
       "  <thead>\n",
       "    <tr style=\"text-align: right;\">\n",
       "      <th></th>\n",
       "      <th>original_number</th>\n",
       "      <th>area_code</th>\n",
       "      <th>exchange</th>\n",
       "      <th>line_number</th>\n",
       "    </tr>\n",
       "  </thead>\n",
       "  <tbody>\n",
       "    <tr>\n",
       "      <th>0</th>\n",
       "      <td>9704443106</td>\n",
       "      <td>970</td>\n",
       "      <td>444</td>\n",
       "      <td>3106</td>\n",
       "    </tr>\n",
       "    <tr>\n",
       "      <th>1</th>\n",
       "      <td>(541) 471 3918</td>\n",
       "      <td>541</td>\n",
       "      <td>471</td>\n",
       "      <td>3918</td>\n",
       "    </tr>\n",
       "    <tr>\n",
       "      <th>2</th>\n",
       "      <td>(814)-462-8074</td>\n",
       "      <td>814</td>\n",
       "      <td>462</td>\n",
       "      <td>8074</td>\n",
       "    </tr>\n",
       "    <tr>\n",
       "      <th>3</th>\n",
       "      <td>(603)281-0308</td>\n",
       "      <td>603</td>\n",
       "      <td>281</td>\n",
       "      <td>0308</td>\n",
       "    </tr>\n",
       "  </tbody>\n",
       "</table>\n",
       "</div>"
      ],
      "text/plain": [
       "  original_number area_code exchange line_number\n",
       "0      9704443106       970      444        3106\n",
       "1  (541) 471 3918       541      471        3918\n",
       "2  (814)-462-8074       814      462        8074\n",
       "3   (603)281-0308       603      281        0308"
      ]
     },
     "execution_count": 3,
     "metadata": {},
     "output_type": "execute_result"
    }
   ],
   "source": [
    "phone_pattern = '.?(\\d{3}).*(\\d{3}).*(\\d{4})'\n",
    "phone['area_code'] = phone.original_number.apply(lambda x: re.match(phone_pattern, x).group(1))\n",
    "phone['exchange'] = phone.original_number.apply(lambda x: re.match(phone_pattern, x).group(2))\n",
    "phone['line_number'] = phone.original_number.apply(lambda x: re.match(phone_pattern, x).group(3))\n",
    "phone"
   ]
  },
  {
   "cell_type": "code",
   "execution_count": 4,
   "id": "85f210c7",
   "metadata": {},
   "outputs": [
    {
     "data": {
      "text/plain": [
       "('541', '471', '3918')"
      ]
     },
     "execution_count": 4,
     "metadata": {},
     "output_type": "execute_result"
    }
   ],
   "source": [
    "original_number = \"(541) 471 3918\"\n",
    "res = re.match(phone_pattern, original_number)\n",
    "res.groups()"
   ]
  },
  {
   "cell_type": "markdown",
   "id": "0c46cf94",
   "metadata": {},
   "source": [
    "# Date"
   ]
  },
  {
   "cell_type": "code",
   "execution_count": 5,
   "id": "adaf9248",
   "metadata": {},
   "outputs": [
    {
     "data": {
      "text/html": [
       "<div>\n",
       "<style scoped>\n",
       "    .dataframe tbody tr th:only-of-type {\n",
       "        vertical-align: middle;\n",
       "    }\n",
       "\n",
       "    .dataframe tbody tr th {\n",
       "        vertical-align: top;\n",
       "    }\n",
       "\n",
       "    .dataframe thead th {\n",
       "        text-align: right;\n",
       "    }\n",
       "</style>\n",
       "<table border=\"1\" class=\"dataframe\">\n",
       "  <thead>\n",
       "    <tr style=\"text-align: right;\">\n",
       "      <th></th>\n",
       "      <th>original_date</th>\n",
       "    </tr>\n",
       "  </thead>\n",
       "  <tbody>\n",
       "    <tr>\n",
       "      <th>0</th>\n",
       "      <td>20-02-2019</td>\n",
       "    </tr>\n",
       "    <tr>\n",
       "      <th>1</th>\n",
       "      <td>14-09-2021</td>\n",
       "    </tr>\n",
       "    <tr>\n",
       "      <th>2</th>\n",
       "      <td>15-07-2020</td>\n",
       "    </tr>\n",
       "  </tbody>\n",
       "</table>\n",
       "</div>"
      ],
      "text/plain": [
       "  original_date\n",
       "0    20-02-2019\n",
       "1    14-09-2021\n",
       "2    15-07-2020"
      ]
     },
     "execution_count": 5,
     "metadata": {},
     "output_type": "execute_result"
    }
   ],
   "source": [
    "date = pd.DataFrame({'20-02-2019', '15-07-2020', '14-09-2021'}, columns = ['original_date'])\n",
    "date"
   ]
  },
  {
   "cell_type": "code",
   "execution_count": 6,
   "id": "c029dc12",
   "metadata": {},
   "outputs": [
    {
     "data": {
      "text/html": [
       "<div>\n",
       "<style scoped>\n",
       "    .dataframe tbody tr th:only-of-type {\n",
       "        vertical-align: middle;\n",
       "    }\n",
       "\n",
       "    .dataframe tbody tr th {\n",
       "        vertical-align: top;\n",
       "    }\n",
       "\n",
       "    .dataframe thead th {\n",
       "        text-align: right;\n",
       "    }\n",
       "</style>\n",
       "<table border=\"1\" class=\"dataframe\">\n",
       "  <thead>\n",
       "    <tr style=\"text-align: right;\">\n",
       "      <th></th>\n",
       "      <th>original_date</th>\n",
       "      <th>day</th>\n",
       "      <th>month</th>\n",
       "      <th>year</th>\n",
       "    </tr>\n",
       "  </thead>\n",
       "  <tbody>\n",
       "    <tr>\n",
       "      <th>0</th>\n",
       "      <td>20-02-2019</td>\n",
       "      <td>20</td>\n",
       "      <td>02</td>\n",
       "      <td>2019</td>\n",
       "    </tr>\n",
       "    <tr>\n",
       "      <th>1</th>\n",
       "      <td>14-09-2021</td>\n",
       "      <td>14</td>\n",
       "      <td>09</td>\n",
       "      <td>2021</td>\n",
       "    </tr>\n",
       "    <tr>\n",
       "      <th>2</th>\n",
       "      <td>15-07-2020</td>\n",
       "      <td>15</td>\n",
       "      <td>07</td>\n",
       "      <td>2020</td>\n",
       "    </tr>\n",
       "  </tbody>\n",
       "</table>\n",
       "</div>"
      ],
      "text/plain": [
       "  original_date day month  year\n",
       "0    20-02-2019  20    02  2019\n",
       "1    14-09-2021  14    09  2021\n",
       "2    15-07-2020  15    07  2020"
      ]
     },
     "execution_count": 6,
     "metadata": {},
     "output_type": "execute_result"
    }
   ],
   "source": [
    "date[['day', 'month', 'year']] = date.original_date.str.split(\"-\", expand = True)\n",
    "date"
   ]
  },
  {
   "cell_type": "code",
   "execution_count": 7,
   "id": "cbcd7c58",
   "metadata": {},
   "outputs": [
    {
     "data": {
      "text/html": [
       "<div>\n",
       "<style scoped>\n",
       "    .dataframe tbody tr th:only-of-type {\n",
       "        vertical-align: middle;\n",
       "    }\n",
       "\n",
       "    .dataframe tbody tr th {\n",
       "        vertical-align: top;\n",
       "    }\n",
       "\n",
       "    .dataframe thead th {\n",
       "        text-align: right;\n",
       "    }\n",
       "</style>\n",
       "<table border=\"1\" class=\"dataframe\">\n",
       "  <thead>\n",
       "    <tr style=\"text-align: right;\">\n",
       "      <th></th>\n",
       "      <th>original_date</th>\n",
       "    </tr>\n",
       "  </thead>\n",
       "  <tbody>\n",
       "    <tr>\n",
       "      <th>0</th>\n",
       "      <td>20-02-2019</td>\n",
       "    </tr>\n",
       "    <tr>\n",
       "      <th>1</th>\n",
       "      <td>14.09.2021</td>\n",
       "    </tr>\n",
       "    <tr>\n",
       "      <th>2</th>\n",
       "      <td>15/07/2020</td>\n",
       "    </tr>\n",
       "  </tbody>\n",
       "</table>\n",
       "</div>"
      ],
      "text/plain": [
       "  original_date\n",
       "0    20-02-2019\n",
       "1    14.09.2021\n",
       "2    15/07/2020"
      ]
     },
     "execution_count": 7,
     "metadata": {},
     "output_type": "execute_result"
    }
   ],
   "source": [
    "date = pd.DataFrame({'20-02-2019', '15/07/2020', '14.09.2021'}, columns = ['original_date'])\n",
    "date"
   ]
  },
  {
   "cell_type": "code",
   "execution_count": 8,
   "id": "97f7b283",
   "metadata": {},
   "outputs": [
    {
     "data": {
      "text/html": [
       "<div>\n",
       "<style scoped>\n",
       "    .dataframe tbody tr th:only-of-type {\n",
       "        vertical-align: middle;\n",
       "    }\n",
       "\n",
       "    .dataframe tbody tr th {\n",
       "        vertical-align: top;\n",
       "    }\n",
       "\n",
       "    .dataframe thead th {\n",
       "        text-align: right;\n",
       "    }\n",
       "</style>\n",
       "<table border=\"1\" class=\"dataframe\">\n",
       "  <thead>\n",
       "    <tr style=\"text-align: right;\">\n",
       "      <th></th>\n",
       "      <th>original_date</th>\n",
       "      <th>day</th>\n",
       "      <th>month</th>\n",
       "      <th>year</th>\n",
       "    </tr>\n",
       "  </thead>\n",
       "  <tbody>\n",
       "    <tr>\n",
       "      <th>0</th>\n",
       "      <td>20-02-2019</td>\n",
       "      <td>20</td>\n",
       "      <td>02</td>\n",
       "      <td>2019</td>\n",
       "    </tr>\n",
       "    <tr>\n",
       "      <th>1</th>\n",
       "      <td>14.09.2021</td>\n",
       "      <td>14</td>\n",
       "      <td>09</td>\n",
       "      <td>2021</td>\n",
       "    </tr>\n",
       "    <tr>\n",
       "      <th>2</th>\n",
       "      <td>15/07/2020</td>\n",
       "      <td>15</td>\n",
       "      <td>07</td>\n",
       "      <td>2020</td>\n",
       "    </tr>\n",
       "  </tbody>\n",
       "</table>\n",
       "</div>"
      ],
      "text/plain": [
       "  original_date day month  year\n",
       "0    20-02-2019  20    02  2019\n",
       "1    14.09.2021  14    09  2021\n",
       "2    15/07/2020  15    07  2020"
      ]
     },
     "execution_count": 8,
     "metadata": {},
     "output_type": "execute_result"
    }
   ],
   "source": [
    "date_pattern = '(\\d{2}).(\\d{2}).(\\d{4})'\n",
    "date['day'] = date.original_date.apply(lambda x: re.match(date_pattern, x).group(1))\n",
    "date['month'] = date.original_date.apply(lambda x: re.match(date_pattern, x).group(2))\n",
    "date['year'] = date.original_date.apply(lambda x: re.match(date_pattern, x).group(3))\n",
    "date"
   ]
  },
  {
   "cell_type": "markdown",
   "id": "cabd5f5c",
   "metadata": {},
   "source": [
    "# Names"
   ]
  },
  {
   "cell_type": "code",
   "execution_count": 9,
   "id": "a147b601",
   "metadata": {},
   "outputs": [
    {
     "data": {
      "text/html": [
       "<div>\n",
       "<style scoped>\n",
       "    .dataframe tbody tr th:only-of-type {\n",
       "        vertical-align: middle;\n",
       "    }\n",
       "\n",
       "    .dataframe tbody tr th {\n",
       "        vertical-align: top;\n",
       "    }\n",
       "\n",
       "    .dataframe thead th {\n",
       "        text-align: right;\n",
       "    }\n",
       "</style>\n",
       "<table border=\"1\" class=\"dataframe\">\n",
       "  <thead>\n",
       "    <tr style=\"text-align: right;\">\n",
       "      <th></th>\n",
       "      <th>full_name</th>\n",
       "    </tr>\n",
       "  </thead>\n",
       "  <tbody>\n",
       "    <tr>\n",
       "      <th>0</th>\n",
       "      <td>Smith, Mr. John</td>\n",
       "    </tr>\n",
       "    <tr>\n",
       "      <th>1</th>\n",
       "      <td>Davis, Ms Nicole</td>\n",
       "    </tr>\n",
       "    <tr>\n",
       "      <th>2</th>\n",
       "      <td>Robinson, Mrs. Rebecca</td>\n",
       "    </tr>\n",
       "    <tr>\n",
       "      <th>3</th>\n",
       "      <td>Armstrong, Dr Sam</td>\n",
       "    </tr>\n",
       "    <tr>\n",
       "      <th>4</th>\n",
       "      <td>Downey, Mr. Robert</td>\n",
       "    </tr>\n",
       "  </tbody>\n",
       "</table>\n",
       "</div>"
      ],
      "text/plain": [
       "                full_name\n",
       "0         Smith, Mr. John\n",
       "1        Davis, Ms Nicole\n",
       "2  Robinson, Mrs. Rebecca\n",
       "3       Armstrong, Dr Sam\n",
       "4      Downey, Mr. Robert"
      ]
     },
     "execution_count": 9,
     "metadata": {},
     "output_type": "execute_result"
    }
   ],
   "source": [
    "names = pd.DataFrame({\"Smith, Mr. John\", \"Davis, Ms Nicole\", \"Robinson, Mrs. Rebecca\", \"Armstrong, Dr Sam\", \"Downey, Mr. Robert\"},\n",
    "                    columns = ['full_name'])\n",
    "names"
   ]
  },
  {
   "cell_type": "code",
   "execution_count": 10,
   "id": "bfff04f6",
   "metadata": {},
   "outputs": [
    {
     "data": {
      "text/html": [
       "<div>\n",
       "<style scoped>\n",
       "    .dataframe tbody tr th:only-of-type {\n",
       "        vertical-align: middle;\n",
       "    }\n",
       "\n",
       "    .dataframe tbody tr th {\n",
       "        vertical-align: top;\n",
       "    }\n",
       "\n",
       "    .dataframe thead th {\n",
       "        text-align: right;\n",
       "    }\n",
       "</style>\n",
       "<table border=\"1\" class=\"dataframe\">\n",
       "  <thead>\n",
       "    <tr style=\"text-align: right;\">\n",
       "      <th></th>\n",
       "      <th>full_name</th>\n",
       "      <th>family_name</th>\n",
       "      <th>title</th>\n",
       "      <th>given_name</th>\n",
       "    </tr>\n",
       "  </thead>\n",
       "  <tbody>\n",
       "    <tr>\n",
       "      <th>0</th>\n",
       "      <td>Smith, Mr. John</td>\n",
       "      <td>Smith</td>\n",
       "      <td>Mr</td>\n",
       "      <td>John</td>\n",
       "    </tr>\n",
       "    <tr>\n",
       "      <th>1</th>\n",
       "      <td>Davis, Ms Nicole</td>\n",
       "      <td>Davis</td>\n",
       "      <td>Ms</td>\n",
       "      <td>Nicole</td>\n",
       "    </tr>\n",
       "    <tr>\n",
       "      <th>2</th>\n",
       "      <td>Robinson, Mrs. Rebecca</td>\n",
       "      <td>Robinson</td>\n",
       "      <td>Mrs</td>\n",
       "      <td>Rebecca</td>\n",
       "    </tr>\n",
       "    <tr>\n",
       "      <th>3</th>\n",
       "      <td>Armstrong, Dr Sam</td>\n",
       "      <td>Armstrong</td>\n",
       "      <td>Dr</td>\n",
       "      <td>Sam</td>\n",
       "    </tr>\n",
       "    <tr>\n",
       "      <th>4</th>\n",
       "      <td>Downey, Mr. Robert</td>\n",
       "      <td>Downey</td>\n",
       "      <td>Mr</td>\n",
       "      <td>Robert</td>\n",
       "    </tr>\n",
       "  </tbody>\n",
       "</table>\n",
       "</div>"
      ],
      "text/plain": [
       "                full_name family_name title given_name\n",
       "0         Smith, Mr. John       Smith    Mr       John\n",
       "1        Davis, Ms Nicole       Davis    Ms     Nicole\n",
       "2  Robinson, Mrs. Rebecca    Robinson   Mrs    Rebecca\n",
       "3       Armstrong, Dr Sam   Armstrong    Dr        Sam\n",
       "4      Downey, Mr. Robert      Downey    Mr     Robert"
      ]
     },
     "execution_count": 10,
     "metadata": {},
     "output_type": "execute_result"
    }
   ],
   "source": [
    "name_pattern = '(\\w+),\\s(Mr|Ms|Mrs|Dr).?\\s(\\w+)'\n",
    "names['family_name'] = names.full_name.apply(lambda x: re.match(name_pattern, x).group(1))\n",
    "names['title'] = names.full_name.apply(lambda x: re.match(name_pattern, x).group(2))\n",
    "names['given_name'] = names.full_name.apply(lambda x: re.match(name_pattern, x).group(3))\n",
    "names"
   ]
  },
  {
   "cell_type": "code",
   "execution_count": 11,
   "id": "50af2090",
   "metadata": {},
   "outputs": [
    {
     "data": {
      "text/html": [
       "<div>\n",
       "<style scoped>\n",
       "    .dataframe tbody tr th:only-of-type {\n",
       "        vertical-align: middle;\n",
       "    }\n",
       "\n",
       "    .dataframe tbody tr th {\n",
       "        vertical-align: top;\n",
       "    }\n",
       "\n",
       "    .dataframe thead th {\n",
       "        text-align: right;\n",
       "    }\n",
       "</style>\n",
       "<table border=\"1\" class=\"dataframe\">\n",
       "  <thead>\n",
       "    <tr style=\"text-align: right;\">\n",
       "      <th></th>\n",
       "      <th>full_name</th>\n",
       "      <th>family_name</th>\n",
       "      <th>title</th>\n",
       "      <th>given_name</th>\n",
       "    </tr>\n",
       "  </thead>\n",
       "  <tbody>\n",
       "    <tr>\n",
       "      <th>2</th>\n",
       "      <td>Robinson, Mrs. Rebecca</td>\n",
       "      <td>Robinson</td>\n",
       "      <td>Mrs</td>\n",
       "      <td>Rebecca</td>\n",
       "    </tr>\n",
       "    <tr>\n",
       "      <th>4</th>\n",
       "      <td>Downey, Mr. Robert</td>\n",
       "      <td>Downey</td>\n",
       "      <td>Mr</td>\n",
       "      <td>Robert</td>\n",
       "    </tr>\n",
       "  </tbody>\n",
       "</table>\n",
       "</div>"
      ],
      "text/plain": [
       "                full_name family_name title given_name\n",
       "2  Robinson, Mrs. Rebecca    Robinson   Mrs    Rebecca\n",
       "4      Downey, Mr. Robert      Downey    Mr     Robert"
      ]
     },
     "execution_count": 11,
     "metadata": {},
     "output_type": "execute_result"
    }
   ],
   "source": [
    "names[names.given_name.str.contains('^R')]"
   ]
  },
  {
   "cell_type": "code",
   "execution_count": 12,
   "id": "3f484b43",
   "metadata": {
    "scrolled": false
   },
   "outputs": [
    {
     "data": {
      "text/html": [
       "<div>\n",
       "<style scoped>\n",
       "    .dataframe tbody tr th:only-of-type {\n",
       "        vertical-align: middle;\n",
       "    }\n",
       "\n",
       "    .dataframe tbody tr th {\n",
       "        vertical-align: top;\n",
       "    }\n",
       "\n",
       "    .dataframe thead th {\n",
       "        text-align: right;\n",
       "    }\n",
       "</style>\n",
       "<table border=\"1\" class=\"dataframe\">\n",
       "  <thead>\n",
       "    <tr style=\"text-align: right;\">\n",
       "      <th></th>\n",
       "      <th>full_name</th>\n",
       "      <th>family_name</th>\n",
       "      <th>title</th>\n",
       "      <th>given_name</th>\n",
       "    </tr>\n",
       "  </thead>\n",
       "  <tbody>\n",
       "    <tr>\n",
       "      <th>2</th>\n",
       "      <td>Robinson, Mrs. Rebecca</td>\n",
       "      <td>Robinson</td>\n",
       "      <td>Mrs</td>\n",
       "      <td>Rebecca</td>\n",
       "    </tr>\n",
       "    <tr>\n",
       "      <th>4</th>\n",
       "      <td>Downey, Mr. Robert</td>\n",
       "      <td>Downey</td>\n",
       "      <td>Mr</td>\n",
       "      <td>Robert</td>\n",
       "    </tr>\n",
       "  </tbody>\n",
       "</table>\n",
       "</div>"
      ],
      "text/plain": [
       "                full_name family_name title given_name\n",
       "2  Robinson, Mrs. Rebecca    Robinson   Mrs    Rebecca\n",
       "4      Downey, Mr. Robert      Downey    Mr     Robert"
      ]
     },
     "execution_count": 12,
     "metadata": {},
     "output_type": "execute_result"
    }
   ],
   "source": [
    "names[names.given_name.str.startswith('R')]"
   ]
  },
  {
   "cell_type": "markdown",
   "id": "ea0bcdcf",
   "metadata": {},
   "source": [
    "# URL"
   ]
  },
  {
   "cell_type": "code",
   "execution_count": 13,
   "id": "b2c30a2e",
   "metadata": {},
   "outputs": [
    {
     "data": {
      "text/html": [
       "<div>\n",
       "<style scoped>\n",
       "    .dataframe tbody tr th:only-of-type {\n",
       "        vertical-align: middle;\n",
       "    }\n",
       "\n",
       "    .dataframe tbody tr th {\n",
       "        vertical-align: top;\n",
       "    }\n",
       "\n",
       "    .dataframe thead th {\n",
       "        text-align: right;\n",
       "    }\n",
       "</style>\n",
       "<table border=\"1\" class=\"dataframe\">\n",
       "  <thead>\n",
       "    <tr style=\"text-align: right;\">\n",
       "      <th></th>\n",
       "      <th>full_url</th>\n",
       "    </tr>\n",
       "  </thead>\n",
       "  <tbody>\n",
       "    <tr>\n",
       "      <th>0</th>\n",
       "      <td>https://twitter.com/home</td>\n",
       "    </tr>\n",
       "    <tr>\n",
       "      <th>1</th>\n",
       "      <td>https://www.google.com/gmail</td>\n",
       "    </tr>\n",
       "    <tr>\n",
       "      <th>2</th>\n",
       "      <td>http://www.medium.com</td>\n",
       "    </tr>\n",
       "  </tbody>\n",
       "</table>\n",
       "</div>"
      ],
      "text/plain": [
       "                       full_url\n",
       "0      https://twitter.com/home\n",
       "1  https://www.google.com/gmail\n",
       "2         http://www.medium.com"
      ]
     },
     "execution_count": 13,
     "metadata": {},
     "output_type": "execute_result"
    }
   ],
   "source": [
    "url = pd.DataFrame({\"https://www.google.com/gmail\", \"http://www.medium.com\", \"https://twitter.com/home\"},\n",
    "                  columns = ['full_url'])\n",
    "url"
   ]
  },
  {
   "cell_type": "code",
   "execution_count": 14,
   "id": "1e7d91f3",
   "metadata": {
    "scrolled": true
   },
   "outputs": [
    {
     "data": {
      "text/html": [
       "<div>\n",
       "<style scoped>\n",
       "    .dataframe tbody tr th:only-of-type {\n",
       "        vertical-align: middle;\n",
       "    }\n",
       "\n",
       "    .dataframe tbody tr th {\n",
       "        vertical-align: top;\n",
       "    }\n",
       "\n",
       "    .dataframe thead th {\n",
       "        text-align: right;\n",
       "    }\n",
       "</style>\n",
       "<table border=\"1\" class=\"dataframe\">\n",
       "  <thead>\n",
       "    <tr style=\"text-align: right;\">\n",
       "      <th></th>\n",
       "      <th>full_url</th>\n",
       "      <th>schema</th>\n",
       "      <th>subdomain</th>\n",
       "      <th>second_level_domain</th>\n",
       "      <th>top_level_domain</th>\n",
       "      <th>subdirectory</th>\n",
       "    </tr>\n",
       "  </thead>\n",
       "  <tbody>\n",
       "    <tr>\n",
       "      <th>0</th>\n",
       "      <td>https://twitter.com/home</td>\n",
       "      <td>https</td>\n",
       "      <td>None</td>\n",
       "      <td>witter</td>\n",
       "      <td>com</td>\n",
       "      <td>home</td>\n",
       "    </tr>\n",
       "    <tr>\n",
       "      <th>1</th>\n",
       "      <td>https://www.google.com/gmail</td>\n",
       "      <td>https</td>\n",
       "      <td>www</td>\n",
       "      <td>google</td>\n",
       "      <td>com</td>\n",
       "      <td>gmail</td>\n",
       "    </tr>\n",
       "    <tr>\n",
       "      <th>2</th>\n",
       "      <td>http://www.medium.com</td>\n",
       "      <td>http</td>\n",
       "      <td>www</td>\n",
       "      <td>medium</td>\n",
       "      <td>com</td>\n",
       "      <td>None</td>\n",
       "    </tr>\n",
       "  </tbody>\n",
       "</table>\n",
       "</div>"
      ],
      "text/plain": [
       "                       full_url schema subdomain second_level_domain  \\\n",
       "0      https://twitter.com/home  https      None              witter   \n",
       "1  https://www.google.com/gmail  https       www              google   \n",
       "2         http://www.medium.com   http       www              medium   \n",
       "\n",
       "  top_level_domain subdirectory  \n",
       "0              com         home  \n",
       "1              com        gmail  \n",
       "2              com         None  "
      ]
     },
     "execution_count": 14,
     "metadata": {},
     "output_type": "execute_result"
    }
   ],
   "source": [
    "url_pattern = \"(https?)://(www)?.?(\\w+).(\\w+)/?(\\w+)?\"\n",
    "url['schema'] = url.full_url.apply(lambda x: re.match(url_pattern, x).group(1))\n",
    "url['subdomain'] = url.full_url.apply(lambda x: re.match(url_pattern, x).group(2))\n",
    "url['second_level_domain'] = url.full_url.apply(lambda x: re.match(url_pattern, x).group(3))\n",
    "url['top_level_domain'] = url.full_url.apply(lambda x: re.match(url_pattern, x).group(4))\n",
    "url['subdirectory'] = url.full_url.apply(lambda x: re.match(url_pattern, x).group(5))\n",
    "url"
   ]
  },
  {
   "cell_type": "markdown",
   "id": "14fff57d",
   "metadata": {},
   "source": [
    "# Email address"
   ]
  },
  {
   "cell_type": "code",
   "execution_count": 15,
   "id": "78fa4406",
   "metadata": {},
   "outputs": [
    {
     "data": {
      "text/html": [
       "<div>\n",
       "<style scoped>\n",
       "    .dataframe tbody tr th:only-of-type {\n",
       "        vertical-align: middle;\n",
       "    }\n",
       "\n",
       "    .dataframe tbody tr th {\n",
       "        vertical-align: top;\n",
       "    }\n",
       "\n",
       "    .dataframe thead th {\n",
       "        text-align: right;\n",
       "    }\n",
       "</style>\n",
       "<table border=\"1\" class=\"dataframe\">\n",
       "  <thead>\n",
       "    <tr style=\"text-align: right;\">\n",
       "      <th></th>\n",
       "      <th>full_email</th>\n",
       "    </tr>\n",
       "  </thead>\n",
       "  <tbody>\n",
       "    <tr>\n",
       "      <th>0</th>\n",
       "      <td>Jason.Chong@quantium.com.au</td>\n",
       "    </tr>\n",
       "    <tr>\n",
       "      <th>1</th>\n",
       "      <td>jason-chong-14@unimelb.edu.au</td>\n",
       "    </tr>\n",
       "    <tr>\n",
       "      <th>2</th>\n",
       "      <td>jasonchong_98@hotmail.com</td>\n",
       "    </tr>\n",
       "  </tbody>\n",
       "</table>\n",
       "</div>"
      ],
      "text/plain": [
       "                      full_email\n",
       "0    Jason.Chong@quantium.com.au\n",
       "1  jason-chong-14@unimelb.edu.au\n",
       "2      jasonchong_98@hotmail.com"
      ]
     },
     "execution_count": 15,
     "metadata": {},
     "output_type": "execute_result"
    }
   ],
   "source": [
    "email = pd.DataFrame({\"jasonchong_98@hotmail.com\", \n",
    "              \"jason-chong-14@unimelb.edu.au\",\n",
    "              \"Jason.Chong@quantium.com.au\"}, columns = ['full_email'])\n",
    "email"
   ]
  },
  {
   "cell_type": "code",
   "execution_count": 16,
   "id": "d02d8608",
   "metadata": {},
   "outputs": [
    {
     "data": {
      "text/html": [
       "<div>\n",
       "<style scoped>\n",
       "    .dataframe tbody tr th:only-of-type {\n",
       "        vertical-align: middle;\n",
       "    }\n",
       "\n",
       "    .dataframe tbody tr th {\n",
       "        vertical-align: top;\n",
       "    }\n",
       "\n",
       "    .dataframe thead th {\n",
       "        text-align: right;\n",
       "    }\n",
       "</style>\n",
       "<table border=\"1\" class=\"dataframe\">\n",
       "  <thead>\n",
       "    <tr style=\"text-align: right;\">\n",
       "      <th></th>\n",
       "      <th>full_email</th>\n",
       "      <th>username</th>\n",
       "      <th>domain_name</th>\n",
       "      <th>domain</th>\n",
       "    </tr>\n",
       "  </thead>\n",
       "  <tbody>\n",
       "    <tr>\n",
       "      <th>0</th>\n",
       "      <td>Jason.Chong@quantium.com.au</td>\n",
       "      <td>Jason.Chong</td>\n",
       "      <td>quantium</td>\n",
       "      <td>com.au</td>\n",
       "    </tr>\n",
       "    <tr>\n",
       "      <th>1</th>\n",
       "      <td>jason-chong-14@unimelb.edu.au</td>\n",
       "      <td>jason-chong-14</td>\n",
       "      <td>unimelb</td>\n",
       "      <td>edu.au</td>\n",
       "    </tr>\n",
       "    <tr>\n",
       "      <th>2</th>\n",
       "      <td>jasonchong_98@hotmail.com</td>\n",
       "      <td>jasonchong_98</td>\n",
       "      <td>hotmail</td>\n",
       "      <td>com</td>\n",
       "    </tr>\n",
       "  </tbody>\n",
       "</table>\n",
       "</div>"
      ],
      "text/plain": [
       "                      full_email        username domain_name  domain\n",
       "0    Jason.Chong@quantium.com.au     Jason.Chong    quantium  com.au\n",
       "1  jason-chong-14@unimelb.edu.au  jason-chong-14     unimelb  edu.au\n",
       "2      jasonchong_98@hotmail.com   jasonchong_98     hotmail     com"
      ]
     },
     "execution_count": 16,
     "metadata": {},
     "output_type": "execute_result"
    }
   ],
   "source": [
    "email_pattern = \"([a-zA-Z0-9\\_\\-\\.]+)@([a-zA-Z]+).(.+)\"\n",
    "email['username'] = email.full_email.apply(lambda x: re.match(email_pattern, x).group(1))\n",
    "email['domain_name'] = email.full_email.apply(lambda x: re.match(email_pattern, x).group(2))\n",
    "email['domain'] = email.full_email.apply(lambda x: re.match(email_pattern, x).group(3))\n",
    "email"
   ]
  },
  {
   "cell_type": "markdown",
   "id": "fc58c89b",
   "metadata": {},
   "source": [
    "# Address"
   ]
  },
  {
   "cell_type": "code",
   "execution_count": 17,
   "id": "3182552b",
   "metadata": {},
   "outputs": [
    {
     "data": {
      "text/html": [
       "<div>\n",
       "<style scoped>\n",
       "    .dataframe tbody tr th:only-of-type {\n",
       "        vertical-align: middle;\n",
       "    }\n",
       "\n",
       "    .dataframe tbody tr th {\n",
       "        vertical-align: top;\n",
       "    }\n",
       "\n",
       "    .dataframe thead th {\n",
       "        text-align: right;\n",
       "    }\n",
       "</style>\n",
       "<table border=\"1\" class=\"dataframe\">\n",
       "  <thead>\n",
       "    <tr style=\"text-align: right;\">\n",
       "      <th></th>\n",
       "      <th>full_address</th>\n",
       "    </tr>\n",
       "  </thead>\n",
       "  <tbody>\n",
       "    <tr>\n",
       "      <th>0</th>\n",
       "      <td>107 Quayside Vista, Kingston ACT 2604</td>\n",
       "    </tr>\n",
       "    <tr>\n",
       "      <th>1</th>\n",
       "      <td>21 Bungana Drive, Kybunga SA 5453</td>\n",
       "    </tr>\n",
       "    <tr>\n",
       "      <th>2</th>\n",
       "      <td>George Street, Brisbane QLD 4000</td>\n",
       "    </tr>\n",
       "    <tr>\n",
       "      <th>3</th>\n",
       "      <td>Thomas Lane, Fitzroy North VIC 3068</td>\n",
       "    </tr>\n",
       "    <tr>\n",
       "      <th>4</th>\n",
       "      <td>94 Prince Street, Lower Coldstream NSW 2460</td>\n",
       "    </tr>\n",
       "  </tbody>\n",
       "</table>\n",
       "</div>"
      ],
      "text/plain": [
       "                                  full_address\n",
       "0        107 Quayside Vista, Kingston ACT 2604\n",
       "1            21 Bungana Drive, Kybunga SA 5453\n",
       "2             George Street, Brisbane QLD 4000\n",
       "3          Thomas Lane, Fitzroy North VIC 3068\n",
       "4  94 Prince Street, Lower Coldstream NSW 2460"
      ]
     },
     "execution_count": 17,
     "metadata": {},
     "output_type": "execute_result"
    }
   ],
   "source": [
    "address = pd.DataFrame({\"21 Bungana Drive, Kybunga SA 5453\", \n",
    "                \"Thomas Lane, Fitzroy North VIC 3068\",\n",
    "                \"107 Quayside Vista, Kingston ACT 2604\",\n",
    "                \"94 Prince Street, Lower Coldstream NSW 2460\", \n",
    "                \"George Street, Brisbane QLD 4000\"}, columns = ['full_address'])\n",
    "address"
   ]
  },
  {
   "cell_type": "code",
   "execution_count": 18,
   "id": "d4a73b60",
   "metadata": {
    "scrolled": true
   },
   "outputs": [
    {
     "data": {
      "text/html": [
       "<div>\n",
       "<style scoped>\n",
       "    .dataframe tbody tr th:only-of-type {\n",
       "        vertical-align: middle;\n",
       "    }\n",
       "\n",
       "    .dataframe tbody tr th {\n",
       "        vertical-align: top;\n",
       "    }\n",
       "\n",
       "    .dataframe thead th {\n",
       "        text-align: right;\n",
       "    }\n",
       "</style>\n",
       "<table border=\"1\" class=\"dataframe\">\n",
       "  <thead>\n",
       "    <tr style=\"text-align: right;\">\n",
       "      <th></th>\n",
       "      <th>full_address</th>\n",
       "      <th>house_number</th>\n",
       "      <th>street_name</th>\n",
       "      <th>suburb</th>\n",
       "      <th>state</th>\n",
       "      <th>postcode</th>\n",
       "    </tr>\n",
       "  </thead>\n",
       "  <tbody>\n",
       "    <tr>\n",
       "      <th>0</th>\n",
       "      <td>107 Quayside Vista, Kingston ACT 2604</td>\n",
       "      <td>107</td>\n",
       "      <td>Quayside Vista</td>\n",
       "      <td>Kingston</td>\n",
       "      <td>ACT</td>\n",
       "      <td>2604</td>\n",
       "    </tr>\n",
       "    <tr>\n",
       "      <th>1</th>\n",
       "      <td>21 Bungana Drive, Kybunga SA 5453</td>\n",
       "      <td>21</td>\n",
       "      <td>Bungana Drive</td>\n",
       "      <td>Kybunga</td>\n",
       "      <td>SA</td>\n",
       "      <td>5453</td>\n",
       "    </tr>\n",
       "    <tr>\n",
       "      <th>2</th>\n",
       "      <td>George Street, Brisbane QLD 4000</td>\n",
       "      <td></td>\n",
       "      <td>George Street</td>\n",
       "      <td>Brisbane</td>\n",
       "      <td>QLD</td>\n",
       "      <td>4000</td>\n",
       "    </tr>\n",
       "    <tr>\n",
       "      <th>3</th>\n",
       "      <td>Thomas Lane, Fitzroy North VIC 3068</td>\n",
       "      <td></td>\n",
       "      <td>Thomas Lane</td>\n",
       "      <td>Fitzroy North</td>\n",
       "      <td>VIC</td>\n",
       "      <td>3068</td>\n",
       "    </tr>\n",
       "    <tr>\n",
       "      <th>4</th>\n",
       "      <td>94 Prince Street, Lower Coldstream NSW 2460</td>\n",
       "      <td>94</td>\n",
       "      <td>Prince Street</td>\n",
       "      <td>Lower Coldstream</td>\n",
       "      <td>NSW</td>\n",
       "      <td>2460</td>\n",
       "    </tr>\n",
       "  </tbody>\n",
       "</table>\n",
       "</div>"
      ],
      "text/plain": [
       "                                  full_address house_number     street_name  \\\n",
       "0        107 Quayside Vista, Kingston ACT 2604          107  Quayside Vista   \n",
       "1            21 Bungana Drive, Kybunga SA 5453           21   Bungana Drive   \n",
       "2             George Street, Brisbane QLD 4000                George Street   \n",
       "3          Thomas Lane, Fitzroy North VIC 3068                  Thomas Lane   \n",
       "4  94 Prince Street, Lower Coldstream NSW 2460           94   Prince Street   \n",
       "\n",
       "             suburb state postcode  \n",
       "0          Kingston   ACT     2604  \n",
       "1           Kybunga    SA     5453  \n",
       "2          Brisbane   QLD     4000  \n",
       "3     Fitzroy North   VIC     3068  \n",
       "4  Lower Coldstream   NSW     2460  "
      ]
     },
     "execution_count": 18,
     "metadata": {},
     "output_type": "execute_result"
    }
   ],
   "source": [
    "address_pattern = \"(\\d*)\\s?(.+),\\s(.+)\\s([A-Z]{2,3})\\s(\\d{4})\"\n",
    "address['house_number'] = address.full_address.apply(lambda x: re.match(address_pattern, x).group(1))\n",
    "address['street_name'] = address.full_address.apply(lambda x: re.match(address_pattern, x).group(2))\n",
    "address['suburb'] = address.full_address.apply(lambda x: re.match(address_pattern, x).group(3))\n",
    "address['state'] = address.full_address.apply(lambda x: re.match(address_pattern, x).group(4))\n",
    "address['postcode'] = address.full_address.apply(lambda x: re.match(address_pattern, x).group(5))\n",
    "address"
   ]
  }
 ],
 "metadata": {
  "kernelspec": {
   "display_name": "Python 3",
   "language": "python",
   "name": "python3"
  },
  "language_info": {
   "codemirror_mode": {
    "name": "ipython",
    "version": 3
   },
   "file_extension": ".py",
   "mimetype": "text/x-python",
   "name": "python",
   "nbconvert_exporter": "python",
   "pygments_lexer": "ipython3",
   "version": "3.8.8"
  }
 },
 "nbformat": 4,
 "nbformat_minor": 5
}
